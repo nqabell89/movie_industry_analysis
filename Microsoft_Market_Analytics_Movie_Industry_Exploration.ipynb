{
 "cells": [
  {
   "cell_type": "markdown",
   "metadata": {},
   "source": [
    "# Microsoft Market Analytics: Movie Industry Exploration"
   ]
  },
  {
   "cell_type": "markdown",
   "metadata": {},
   "source": [
    "## Random Notes (to be organized):\n",
    "* Need to standardize columns across datasets in order to merge them\n",
    "* * example: movie title, name, title, etc\n",
    "* genre category is a mess; multiple duplicate entries with different genre tags\n",
    "* * also need to seperate multi-tagged strings by comma to create multiple columns with one genre each\n",
    "* need to remove duplicates, but first need to understand which duplicate entry is best to keep\n",
    "* need to remove replace null values and mistake values\n",
    "* * example: gross box office = 0\n"
   ]
  }
 ],
 "metadata": {
  "kernelspec": {
   "display_name": "Python 3",
   "language": "python",
   "name": "python3"
  },
  "language_info": {
   "codemirror_mode": {
    "name": "ipython",
    "version": 3
   },
   "file_extension": ".py",
   "mimetype": "text/x-python",
   "name": "python",
   "nbconvert_exporter": "python",
   "pygments_lexer": "ipython3",
   "version": "3.7.4"
  }
 },
 "nbformat": 4,
 "nbformat_minor": 4
}
