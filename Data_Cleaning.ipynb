{
 "cells": [
  {
   "cell_type": "code",
   "execution_count": 236,
   "metadata": {},
   "outputs": [],
   "source": [
    "import pandas as pd\n",
    "import numpy as np\n",
    "import pickle\n",
    "import matplotlib as plt\n",
    "import seaborn as sns\n",
    "%matplotlib inline"
   ]
  },
  {
   "cell_type": "code",
   "execution_count": 237,
   "metadata": {},
   "outputs": [],
   "source": [
    "# Importing more complete IMDB csv file.\n",
    "imdb_df = pd.read_csv('zippedData/imdb.movies.csv.zip')\n",
    "\n",
    "# Dropping columns that won't be used.\n",
    "imdb_df.drop(columns=['original_title', 'year', 'language', 'actors', 'description', 'avg_vote',\\\n",
    "                      'votes', 'production_company'], inplace=True)\n",
    "\n",
    "# Renaming and simplifying column names to be more descriptive.\n",
    "new_column_list = ['imdb_id', 'title', 'release_date', 'genre', 'duration', 'country', 'director',\\\n",
    "                   'writer', 'budget', 'domestic_income', 'worldwide_income', 'metascore',\\\n",
    "                   'imdb_user_score', 'imdb_critic_score']\n",
    "imdb_df.columns = new_column_list"
   ]
  },
  {
   "cell_type": "code",
   "execution_count": 238,
   "metadata": {},
   "outputs": [],
   "source": [
    "# Convert release date to datetime object. If date only contains year, defaulting to January 1st.\n",
    "imdb_df.release_date = pd.to_datetime(imdb_df.release_date)\n",
    "\n",
    "# Filter out movies without a release date and made before 1990.\n",
    "imdb_df.drop(imdb_df[imdb_df['release_date'].dt.year < 1990].index, inplace=True)\n",
    "\n",
    "# Filter out movies made outside the USA.\n",
    "imdb_df.drop(imdb_df[imdb_df['country'] != 'USA'].index, inplace=True)"
   ]
  },
  {
   "cell_type": "code",
   "execution_count": 239,
   "metadata": {},
   "outputs": [],
   "source": [
    "# Drop country, director, and writer columns.\n",
    "imdb_df.drop(columns=['country', 'director', 'writer'], inplace=True)\n",
    "\n",
    "# Filter out null values for budget and domestic_income.\n",
    "imdb_df.dropna(subset=['budget'], inplace=True)\n",
    "imdb_df.dropna(subset=['domestic_income'], inplace=True)"
   ]
  },
  {
   "cell_type": "code",
   "execution_count": 240,
   "metadata": {},
   "outputs": [],
   "source": [
    "# Drop critic ratings due to assumption that it is not valuable.\n",
    "imdb_df = imdb_df.drop(columns=['metascore', 'imdb_critic_score'])\n",
    "\n",
    "# Filter out 5 entries without an imdb user score.\n",
    "imdb_df.dropna(subset=['imdb_user_score'], inplace=True)"
   ]
  },
  {
   "cell_type": "code",
   "execution_count": 241,
   "metadata": {},
   "outputs": [],
   "source": [
    "# Import metacritic userscore to combine with imdb user score.\n",
    "metacritic_df = pd.read_csv('zippedData/metacritic_movies.csv')\n",
    "metacritic_df.drop(columns=['release_date', 'genre', 'meta_mixed', 'meta_negative', 'meta_positive', 'metascore',\\\n",
    "                           'user_mixed', 'user_negative', 'user_positive'], inplace=True)\n",
    "\n",
    "# Rename columns to align with movies_df.\n",
    "metacritic_df.columns = ['title', 'metacritic_user_score']"
   ]
  },
  {
   "cell_type": "code",
   "execution_count": 242,
   "metadata": {},
   "outputs": [],
   "source": [
    "# Merge metacritic userscore into movies_df based on titles\n",
    "movies_df = pd.merge(imdb_df, metacritic_df, left_on='title', right_on='title', how='left')"
   ]
  },
  {
   "cell_type": "code",
   "execution_count": 243,
   "metadata": {},
   "outputs": [],
   "source": [
    "# Drop dupliace entries based on title\n",
    "movies_df.drop_duplicates(subset='title', inplace=True)"
   ]
  },
  {
   "cell_type": "code",
   "execution_count": 244,
   "metadata": {},
   "outputs": [],
   "source": [
    "# Replace null values and 'tbd' metacritic user scores into 0 integer.\n",
    "movies_df['metacritic_user_score'] = movies_df['metacritic_user_score'].replace('tbd', '0', regex=True)\n",
    "movies_df['metacritic_user_score'] = movies_df['metacritic_user_score'].replace('0', 0.0, regex=True)\n",
    "movies_df['metacritic_user_score'].fillna(0.0, inplace=True)\n",
    "movies_df.metacritic_user_score.head(50)\n",
    "# Convert series dtype to float.\n",
    "movies_df.metacritic_user_score = movies_df.metacritic_user_score.astype(float)"
   ]
  },
  {
   "cell_type": "code",
   "execution_count": 245,
   "metadata": {},
   "outputs": [],
   "source": [
    "# Replace 0.0s in metacritic user score with average of non-zero Metacritic user scores.\n",
    "def mean_non_zero(series):\n",
    "    list_of_non_zero = []\n",
    "    for value in series:\n",
    "        if value != 0.0:\n",
    "            list_of_non_zero.append(value)\n",
    "    return round((sum(list_of_non_zero)/len(list_of_non_zero)), ndigits=1)\n",
    "\n",
    "def replace_zeros(value):\n",
    "    current_value = value\n",
    "    new_value = None\n",
    "    if value == 0.0:\n",
    "        new_value = mean_non_zero(movies_df['metacritic_user_score'])\n",
    "    else:\n",
    "        new_value = current_value\n",
    "    return new_value\n",
    "\n",
    "movies_df['metacritic_user_score'] = movies_df['metacritic_user_score'].map(replace_zeros)"
   ]
  },
  {
   "cell_type": "code",
   "execution_count": 246,
   "metadata": {},
   "outputs": [],
   "source": [
    "# Format budget, domestic, and worldwide boxoffice columns and delete dollar sign and extra space.\n",
    "movies_df['budget'] = movies_df['budget'].astype(str)\n",
    "movies_df['budget'] = movies_df['budget'].map(lambda x: x.split(' ')[1])\n",
    "\n",
    "movies_df['domestic_income'] = movies_df['domestic_income'].astype(str)\n",
    "movies_df['domestic_income'] = movies_df['domestic_income'].map(lambda x: x.split(' ')[1])\n",
    "\n",
    "movies_df['worldwide_income'] = movies_df['worldwide_income'].astype(str)\n",
    "movies_df['worldwide_income'] = movies_df['worldwide_income'].map(lambda x: x.split(' ')[1])"
   ]
  },
  {
   "cell_type": "code",
   "execution_count": 247,
   "metadata": {},
   "outputs": [],
   "source": [
    "# Convert budget, domestic, and worldwide columns into floats.\n",
    "movies_df['budget'] = movies_df['budget'].astype(float)\n",
    "movies_df['domestic_income'] = movies_df['domestic_income'].astype(float)\n",
    "movies_df['worldwide_income'] = movies_df['worldwide_income'].astype(float)"
   ]
  },
  {
   "cell_type": "code",
   "execution_count": 248,
   "metadata": {},
   "outputs": [],
   "source": [
    "# Split genres in genre column into list of strings, then create columns with dummey variables for each genre.\n",
    "unique_genres = set([x for genre in [genres.split(', ') for genres in movies_df['genre']] for x in genre])\n",
    "\n",
    "def genre_binary(genre, list_of_genres):\n",
    "    value = None\n",
    "    if genre in list_of_genres:\n",
    "        value = 1\n",
    "    else:\n",
    "        value = 0\n",
    "    return value\n",
    "\n",
    "for genre in unique_genres:\n",
    "    movies_df[genre] = movies_df['genre'].map(lambda x: genre_binary(genre, x))"
   ]
  },
  {
   "cell_type": "code",
   "execution_count": 249,
   "metadata": {},
   "outputs": [],
   "source": [
    "# Create ROI and profit/loss columns for both domestic & worldwide boxoffice.\n",
    "movies_df['domestic_roi'] = (movies_df['domestic_income']/movies_df['budget'])*100\n",
    "movies_df['worldwide_roi'] = (movies_df['worldwide_income']/movies_df['budget'])*100\n",
    "movies_df['domestic_profit_loss'] = movies_df['domestic_income']-movies_df['budget']\n",
    "movies_df['worldwide_profit_loss'] = movies_df['worldwide_income']-movies_df['budget']"
   ]
  },
  {
   "cell_type": "code",
   "execution_count": 250,
   "metadata": {},
   "outputs": [
    {
     "data": {
      "text/html": [
       "<div>\n",
       "<style scoped>\n",
       "    .dataframe tbody tr th:only-of-type {\n",
       "        vertical-align: middle;\n",
       "    }\n",
       "\n",
       "    .dataframe tbody tr th {\n",
       "        vertical-align: top;\n",
       "    }\n",
       "\n",
       "    .dataframe thead th {\n",
       "        text-align: right;\n",
       "    }\n",
       "</style>\n",
       "<table border=\"1\" class=\"dataframe\">\n",
       "  <thead>\n",
       "    <tr style=\"text-align: right;\">\n",
       "      <th></th>\n",
       "      <th>imdb_id</th>\n",
       "      <th>title</th>\n",
       "      <th>release_date</th>\n",
       "      <th>genre</th>\n",
       "      <th>duration</th>\n",
       "      <th>budget</th>\n",
       "      <th>domestic_income</th>\n",
       "      <th>worldwide_income</th>\n",
       "      <th>imdb_user_score</th>\n",
       "      <th>metacritic_user_score</th>\n",
       "      <th>...</th>\n",
       "      <th>War</th>\n",
       "      <th>Thriller</th>\n",
       "      <th>Sci-Fi</th>\n",
       "      <th>Music</th>\n",
       "      <th>Comedy</th>\n",
       "      <th>Drama</th>\n",
       "      <th>domestic_roi</th>\n",
       "      <th>worldwide_roi</th>\n",
       "      <th>domestic_profit_loss</th>\n",
       "      <th>worldwide_profit_loss</th>\n",
       "    </tr>\n",
       "  </thead>\n",
       "  <tbody>\n",
       "    <tr>\n",
       "      <td>0</td>\n",
       "      <td>tt0035423</td>\n",
       "      <td>Kate &amp; Leopold</td>\n",
       "      <td>2002-04-05</td>\n",
       "      <td>Comedy, Fantasy, Romance</td>\n",
       "      <td>118</td>\n",
       "      <td>48000000.0</td>\n",
       "      <td>47121859.0</td>\n",
       "      <td>76019048.0</td>\n",
       "      <td>330.0</td>\n",
       "      <td>8.7</td>\n",
       "      <td>...</td>\n",
       "      <td>0</td>\n",
       "      <td>0</td>\n",
       "      <td>0</td>\n",
       "      <td>0</td>\n",
       "      <td>1</td>\n",
       "      <td>0</td>\n",
       "      <td>98.170540</td>\n",
       "      <td>158.373017</td>\n",
       "      <td>-878141.0</td>\n",
       "      <td>28019048.0</td>\n",
       "    </tr>\n",
       "    <tr>\n",
       "      <td>1</td>\n",
       "      <td>tt0083907</td>\n",
       "      <td>The Evil Dead</td>\n",
       "      <td>2018-10-31</td>\n",
       "      <td>Horror</td>\n",
       "      <td>85</td>\n",
       "      <td>350000.0</td>\n",
       "      <td>2400000.0</td>\n",
       "      <td>2893091.0</td>\n",
       "      <td>802.0</td>\n",
       "      <td>8.5</td>\n",
       "      <td>...</td>\n",
       "      <td>0</td>\n",
       "      <td>0</td>\n",
       "      <td>0</td>\n",
       "      <td>0</td>\n",
       "      <td>0</td>\n",
       "      <td>0</td>\n",
       "      <td>685.714286</td>\n",
       "      <td>826.597429</td>\n",
       "      <td>2050000.0</td>\n",
       "      <td>2543091.0</td>\n",
       "    </tr>\n",
       "    <tr>\n",
       "      <td>2</td>\n",
       "      <td>tt0093743</td>\n",
       "      <td>Pinocchio and the Emperor of the Night</td>\n",
       "      <td>1991-07-19</td>\n",
       "      <td>Animation, Adventure, Family</td>\n",
       "      <td>87</td>\n",
       "      <td>8000000.0</td>\n",
       "      <td>3261638.0</td>\n",
       "      <td>3261638.0</td>\n",
       "      <td>16.0</td>\n",
       "      <td>6.7</td>\n",
       "      <td>...</td>\n",
       "      <td>0</td>\n",
       "      <td>0</td>\n",
       "      <td>0</td>\n",
       "      <td>0</td>\n",
       "      <td>0</td>\n",
       "      <td>0</td>\n",
       "      <td>40.770475</td>\n",
       "      <td>40.770475</td>\n",
       "      <td>-4738362.0</td>\n",
       "      <td>-4738362.0</td>\n",
       "    </tr>\n",
       "    <tr>\n",
       "      <td>3</td>\n",
       "      <td>tt0095776</td>\n",
       "      <td>Oliver &amp; Company</td>\n",
       "      <td>1990-03-16</td>\n",
       "      <td>Animation, Adventure, Comedy</td>\n",
       "      <td>74</td>\n",
       "      <td>31000000.0</td>\n",
       "      <td>74151346.0</td>\n",
       "      <td>74151346.0</td>\n",
       "      <td>94.0</td>\n",
       "      <td>7.6</td>\n",
       "      <td>...</td>\n",
       "      <td>0</td>\n",
       "      <td>0</td>\n",
       "      <td>0</td>\n",
       "      <td>0</td>\n",
       "      <td>1</td>\n",
       "      <td>0</td>\n",
       "      <td>239.197890</td>\n",
       "      <td>239.197890</td>\n",
       "      <td>43151346.0</td>\n",
       "      <td>43151346.0</td>\n",
       "    </tr>\n",
       "    <tr>\n",
       "      <td>4</td>\n",
       "      <td>tt0095958</td>\n",
       "      <td>Rampage</td>\n",
       "      <td>1992-10-30</td>\n",
       "      <td>Drama, Thriller</td>\n",
       "      <td>97</td>\n",
       "      <td>7500000.0</td>\n",
       "      <td>796368.0</td>\n",
       "      <td>796368.0</td>\n",
       "      <td>24.0</td>\n",
       "      <td>5.8</td>\n",
       "      <td>...</td>\n",
       "      <td>0</td>\n",
       "      <td>1</td>\n",
       "      <td>0</td>\n",
       "      <td>0</td>\n",
       "      <td>0</td>\n",
       "      <td>1</td>\n",
       "      <td>10.618240</td>\n",
       "      <td>10.618240</td>\n",
       "      <td>-6703632.0</td>\n",
       "      <td>-6703632.0</td>\n",
       "    </tr>\n",
       "  </tbody>\n",
       "</table>\n",
       "<p>5 rows × 34 columns</p>\n",
       "</div>"
      ],
      "text/plain": [
       "     imdb_id                                   title release_date  \\\n",
       "0  tt0035423                          Kate & Leopold   2002-04-05   \n",
       "1  tt0083907                           The Evil Dead   2018-10-31   \n",
       "2  tt0093743  Pinocchio and the Emperor of the Night   1991-07-19   \n",
       "3  tt0095776                        Oliver & Company   1990-03-16   \n",
       "4  tt0095958                                 Rampage   1992-10-30   \n",
       "\n",
       "                          genre  duration      budget  domestic_income  \\\n",
       "0      Comedy, Fantasy, Romance       118  48000000.0       47121859.0   \n",
       "1                        Horror        85    350000.0        2400000.0   \n",
       "2  Animation, Adventure, Family        87   8000000.0        3261638.0   \n",
       "3  Animation, Adventure, Comedy        74  31000000.0       74151346.0   \n",
       "4               Drama, Thriller        97   7500000.0         796368.0   \n",
       "\n",
       "   worldwide_income  imdb_user_score  metacritic_user_score  ...  War  \\\n",
       "0        76019048.0            330.0                    8.7  ...    0   \n",
       "1         2893091.0            802.0                    8.5  ...    0   \n",
       "2         3261638.0             16.0                    6.7  ...    0   \n",
       "3        74151346.0             94.0                    7.6  ...    0   \n",
       "4          796368.0             24.0                    5.8  ...    0   \n",
       "\n",
       "   Thriller  Sci-Fi  Music  Comedy  Drama  domestic_roi  worldwide_roi  \\\n",
       "0         0       0      0       1      0     98.170540     158.373017   \n",
       "1         0       0      0       0      0    685.714286     826.597429   \n",
       "2         0       0      0       0      0     40.770475      40.770475   \n",
       "3         0       0      0       1      0    239.197890     239.197890   \n",
       "4         1       0      0       0      1     10.618240      10.618240   \n",
       "\n",
       "   domestic_profit_loss  worldwide_profit_loss  \n",
       "0             -878141.0             28019048.0  \n",
       "1             2050000.0              2543091.0  \n",
       "2            -4738362.0             -4738362.0  \n",
       "3            43151346.0             43151346.0  \n",
       "4            -6703632.0             -6703632.0  \n",
       "\n",
       "[5 rows x 34 columns]"
      ]
     },
     "execution_count": 250,
     "metadata": {},
     "output_type": "execute_result"
    }
   ],
   "source": [
    "movies_df.head()"
   ]
  },
  {
   "cell_type": "code",
   "execution_count": 251,
   "metadata": {},
   "outputs": [
    {
     "name": "stdout",
     "output_type": "stream",
     "text": [
      "<class 'pandas.core.frame.DataFrame'>\n",
      "Int64Index: 3582 entries, 0 to 3700\n",
      "Data columns (total 34 columns):\n",
      "imdb_id                  3582 non-null object\n",
      "title                    3582 non-null object\n",
      "release_date             3582 non-null datetime64[ns]\n",
      "genre                    3582 non-null object\n",
      "duration                 3582 non-null int64\n",
      "budget                   3582 non-null float64\n",
      "domestic_income          3582 non-null float64\n",
      "worldwide_income         3582 non-null float64\n",
      "imdb_user_score          3582 non-null float64\n",
      "metacritic_user_score    3582 non-null float64\n",
      "Western                  3582 non-null int64\n",
      "Action                   3582 non-null int64\n",
      "Crime                    3582 non-null int64\n",
      "Adventure                3582 non-null int64\n",
      "Animation                3582 non-null int64\n",
      "Sport                    3582 non-null int64\n",
      "Mystery                  3582 non-null int64\n",
      "Family                   3582 non-null int64\n",
      "History                  3582 non-null int64\n",
      "Romance                  3582 non-null int64\n",
      "Musical                  3582 non-null int64\n",
      "Fantasy                  3582 non-null int64\n",
      "Biography                3582 non-null int64\n",
      "Horror                   3582 non-null int64\n",
      "War                      3582 non-null int64\n",
      "Thriller                 3582 non-null int64\n",
      "Sci-Fi                   3582 non-null int64\n",
      "Music                    3582 non-null int64\n",
      "Comedy                   3582 non-null int64\n",
      "Drama                    3582 non-null int64\n",
      "domestic_roi             3582 non-null float64\n",
      "worldwide_roi            3582 non-null float64\n",
      "domestic_profit_loss     3582 non-null float64\n",
      "worldwide_profit_loss    3582 non-null float64\n",
      "dtypes: datetime64[ns](1), float64(9), int64(21), object(3)\n",
      "memory usage: 979.5+ KB\n"
     ]
    }
   ],
   "source": [
    "movies_df.info()"
   ]
  },
  {
   "cell_type": "code",
   "execution_count": 252,
   "metadata": {},
   "outputs": [
    {
     "data": {
      "image/png": "[encoded data removed]",
      "text/plain": [
       "<Figure size 432x288 with 1 Axes>"
      ]
     },
     "metadata": {
      "needs_background": "light"
     },
     "output_type": "display_data"
    }
   ],
   "source": [
    "sns.scatterplot(x=movies_df['budget'], y=movies_df['domestic_roi']);"
   ]
  },
  {
   "cell_type": "code",
   "execution_count": null,
   "metadata": {},
   "outputs": [],
   "source": []
  }
 ],
 "metadata": {
  "kernelspec": {
   "display_name": "Python 3",
   "language": "python",
   "name": "python3"
  },
  "language_info": {
   "codemirror_mode": {
    "name": "ipython",
    "version": 3
   },
   "file_extension": ".py",
   "mimetype": "text/x-python",
   "name": "python",
   "nbconvert_exporter": "python",
   "pygments_lexer": "ipython3",
   "version": "3.7.4"
  }
 },
 "nbformat": 4,
 "nbformat_minor": 4
}
