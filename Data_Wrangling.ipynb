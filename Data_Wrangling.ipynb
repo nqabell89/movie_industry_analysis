{
 "cells": [
  {
   "cell_type": "code",
   "execution_count": 76,
   "metadata": {},
   "outputs": [],
   "source": [
    "import pandas as pd\n",
    "import numpy as np"
   ]
  },
  {
   "cell_type": "code",
   "execution_count": 77,
   "metadata": {},
   "outputs": [],
   "source": [
    "imdb_df = pd.read_csv('zippedData/imdb.movies.csv.zip')\n",
    "metacritic_df = pd.read_csv('zippedData/metacritic_movies.csv')\n",
    "imdb_df.drop(columns=['original_title', 'year', 'language', 'actors', 'description', 'avg_vote',\\\n",
    "                      'votes', 'production_company'], inplace=True)\n",
    "new_column_list = ['imdb_id', 'title', 'release_date', 'genre', 'duration', 'country', 'director',\\\n",
    "                   'writer', 'budget', 'domestic_income', 'worldwide_income', 'metascore',\\\n",
    "                   'imdb_user_score', 'imdb_critic_score']\n",
    "imdb_df.columns = new_column_list"
   ]
  },
  {
   "cell_type": "code",
   "execution_count": 78,
   "metadata": {},
   "outputs": [],
   "source": [
    "imdb_df.release_date = pd.to_datetime(imdb_df.release_date)\n",
    "imdb_df.drop(imdb_df[imdb_df['release_date'].dt.year < 1990].index, inplace=True)\n",
    "imdb_df.drop(imdb_df[imdb_df['country'] != 'USA'].index, inplace=True)\n",
    "imdb_df.drop(columns=['metascore', 'imdb_critic_score'], inplace=True)"
   ]
  },
  {
   "cell_type": "code",
   "execution_count": 79,
   "metadata": {},
   "outputs": [],
   "source": [
    "imdb_df.drop(columns=['country', 'writer'], inplace=True)\n",
    "imdb_df.dropna(subset=['budget'], inplace=True)\n",
    "imdb_df.dropna(subset=['domestic_income'], inplace=True)\n",
    "imdb_df.dropna(subset=['worldwide_income'], inplace=True)\n",
    "imdb_df.dropna(subset=['imdb_user_score'], inplace=True)"
   ]
  },
  {
   "cell_type": "code",
   "execution_count": 80,
   "metadata": {},
   "outputs": [],
   "source": [
    "metacritic_df.drop(columns=['release_date', 'genre', 'meta_mixed', 'meta_negative', 'meta_positive', 'metascore',\\\n",
    "                           'user_mixed', 'user_negative', 'user_positive'], inplace=True)\n",
    "metacritic_df.columns = ['title', 'metacritic_user_score']"
   ]
  },
  {
   "cell_type": "code",
   "execution_count": 81,
   "metadata": {},
   "outputs": [],
   "source": [
    "movies_df = pd.merge(imdb_df, metacritic_df, on='title', how='left')"
   ]
  },
  {
   "cell_type": "code",
   "execution_count": 82,
   "metadata": {},
   "outputs": [],
   "source": [
    "movies_df.drop_duplicates(subset='title', inplace=True)"
   ]
  },
  {
   "cell_type": "code",
   "execution_count": 83,
   "metadata": {},
   "outputs": [],
   "source": [
    "movies_df['metacritic_user_score'] = movies_df['metacritic_user_score'].replace('tbd', 'NaN', regex=True)\n",
    "movies_df.metacritic_user_score = movies_df.metacritic_user_score.astype(float)"
   ]
  },
  {
   "cell_type": "code",
   "execution_count": 84,
   "metadata": {},
   "outputs": [],
   "source": [
    "meta_mean = movies_df.metacritic_user_score.mean()\n",
    "movies_df.metacritic_user_score.fillna(value=meta_mean, inplace=True)"
   ]
  },
  {
   "cell_type": "code",
   "execution_count": 85,
   "metadata": {},
   "outputs": [],
   "source": [
    "movies_df['budget'] = movies_df['budget'].astype(str)\n",
    "movies_df['budget'] = movies_df['budget'].map(lambda x: x.split(' ')[1])\n",
    "movies_df['budget'] = movies_df['budget'].astype(float)\n",
    "movies_df['domestic_income'] = movies_df['domestic_income'].astype(str)\n",
    "movies_df['domestic_income'] = movies_df['domestic_income'].map(lambda x: x.split(' ')[1])\n",
    "movies_df['domestic_income'] = movies_df['domestic_income'].astype(float)\n",
    "movies_df['worldwide_income'] = movies_df['worldwide_income'].astype(str)\n",
    "movies_df['worldwide_income'] = movies_df['worldwide_income'].map(lambda x: x.split(' ')[1])\n",
    "movies_df['worldwide_income'] = movies_df['worldwide_income'].astype(float)"
   ]
  },
  {
   "cell_type": "code",
   "execution_count": 86,
   "metadata": {},
   "outputs": [],
   "source": [
    "unique_genres = set([x for genre in [genres.split(', ') for genres in movies_df['genre']] for x in genre])\n",
    "movies_df = movies_df.join(movies_df.genre.str.get_dummies(', '))"
   ]
  },
  {
   "cell_type": "code",
   "execution_count": 87,
   "metadata": {},
   "outputs": [],
   "source": [
    "movies_df['domestic_roi'] = (movies_df['domestic_income']/movies_df['budget'])*100\n",
    "movies_df['worldwide_roi'] = (movies_df['worldwide_income']/movies_df['budget'])*100\n",
    "movies_df['domestic_profit_loss'] = movies_df['domestic_income']-movies_df['budget']\n",
    "movies_df['worldwide_profit_loss'] = movies_df['worldwide_income']-movies_df['budget']"
   ]
  },
  {
   "cell_type": "code",
   "execution_count": 88,
   "metadata": {},
   "outputs": [],
   "source": [
    "columns = ['budget', 'domestic_income', 'worldwide_income',\\\n",
    "           'domestic_profit_loss', 'worldwide_profit_loss']\n",
    "for column in columns:\n",
    "    movies_df[column] = movies_df[column].map(lambda x: round(x/1000000, ndigits=1))"
   ]
  },
  {
   "cell_type": "code",
   "execution_count": 89,
   "metadata": {},
   "outputs": [],
   "source": [
    "movies_df['domestic_roi'] = movies_df['domestic_roi'].map(lambda x: int(round(x,ndigits=0)))\n",
    "movies_df['worldwide_roi'] = movies_df['worldwide_roi'].map(lambda x: int(round(x,ndigits=0)))"
   ]
  }
 ],
 "metadata": {
  "kernelspec": {
   "display_name": "Python 3",
   "language": "python",
   "name": "python3"
  },
  "language_info": {
   "codemirror_mode": {
    "name": "ipython",
    "version": 3
   },
   "file_extension": ".py",
   "mimetype": "text/x-python",
   "name": "python",
   "nbconvert_exporter": "python",
   "pygments_lexer": "ipython3",
   "version": "3.7.4"
  }
 },
 "nbformat": 4,
 "nbformat_minor": 4
}
